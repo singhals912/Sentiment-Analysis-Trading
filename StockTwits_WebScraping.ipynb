{
 "cells": [
  {
   "cell_type": "code",
   "execution_count": 1,
   "metadata": {},
   "outputs": [],
   "source": [
    "import argparse\n",
    "import os\n",
    "import requests\n",
    "import json\n",
    "import datetime\n",
    "import pandas as pd\n",
    "\n",
    " \n",
    "\n",
    "parser = argparse.ArgumentParser()\n",
    "parser.add_argument('--scrape_iter',\n",
    "    required=False,\n",
    "    help='Scrape Iteration')\n",
    "parser.add_argument('--concat_df',\n",
    "    required=True,\n",
    "    choices=['Y', 'N'],\n",
    "    help='Use this script to concat all of the extracted datasets or to extract StockTwits data part by part')\n",
    "parser.add_argument('--path',\n",
    "    required=True,\n",
    "    help=\"Path to SENN folder\")\n",
    "\n",
    " \n",
    "\n",
    "\n",
    "def stocktwits_scrap(n,ticker,base=199407261):\n",
    "    '''\n",
    "    Function to scrap stocktwits tweet\n",
    "\n",
    " \n",
    "\n",
    "    Base: Base ID to scrape from\n",
    "    '''\n",
    "\n",
    " \n",
    "\n",
    "    id=[]\n",
    "    created_at=[]\n",
    "    body=[]\n",
    "    senti=[]\n",
    "    for i in range(n):\n",
    "        try:\n",
    "            url = \"https://api.stocktwits.com/api/2/streams/symbol/\"+ticker+\".json?max=\"+str(base+5000)+\"&since=\"+str(base)+\"&limit=30\"\n",
    "\n",
    " \n",
    "\n",
    "            base=base+5001\n",
    "\n",
    " \n",
    "\n",
    "            response = requests.request(\"GET\", url, headers={}, data ={})\n",
    "            response=response.json()\n",
    "            messages=response['messages']\n",
    "            iter=range(len(messages))\n",
    "            for idx in iter:\n",
    "                id.append(messages[idx]['id'])\n",
    "                created_at.append(messages[idx]['created_at'])\n",
    "                body.append(messages[idx]['body'])\n",
    "                try:\n",
    "                    senti.append(messages[idx]['entities']['sentiment']['basic']) \n",
    "                except:\n",
    "                    senti.append(' ')\n",
    "                                    \n",
    "                if (len(id) % 100) == 0:\n",
    "                    print('Done Scrape ',len(id),' messages.')\n",
    "        except:\n",
    "            print('Warning Messages: \\n ID Out of Range or Too Many Requests within 1 Hour')\n",
    "            break\n",
    "    try:\n",
    "        df_stocktwits=pd.DataFrame(id,columns=['id'])\n",
    "        df_stocktwits['created_at']=created_at\n",
    "        df_stocktwits['created_at']=pd.to_datetime(df_stocktwits['created_at'])\n",
    "        df_stocktwits['body']=body\n",
    "        df_stocktwits['senti']=senti\n",
    "        \n",
    "        df_stocktwits=df_stocktwits.sort_values(by='created_at')\n",
    "        df_stocktwits=df_stocktwits.reset_index(drop=True)\n",
    "        print('Done Scrape ',len(id),' messages.')\n",
    "        print('Last ID: ',df_stocktwits.tail(1)['id'].values[0])\n",
    "        return(df_stocktwits,df_stocktwits.tail(1)['id'].values[0])\n",
    "    except:\n",
    "        print('Error')\n",
    "        return None"
   ]
  },
  {
   "cell_type": "code",
   "execution_count": 2,
   "metadata": {},
   "outputs": [
    {
     "name": "stdout",
     "output_type": "stream",
     "text": [
      "Done Scrape  100  messages.\n",
      "Done Scrape  200  messages.\n",
      "Done Scrape  287  messages.\n",
      "Last ID:  220456914\n"
     ]
    }
   ],
   "source": [
    "df=stocktwits_scrap(10,'TSLA',base=220407261)"
   ]
  },
  {
   "cell_type": "code",
   "execution_count": null,
   "metadata": {},
   "outputs": [],
   "source": [
    "df[0].to_csv('StocktTwits_TSLA_1.csv')"
   ]
  },
  {
   "cell_type": "code",
   "execution_count": null,
   "metadata": {},
   "outputs": [],
   "source": []
  }
 ],
 "metadata": {
  "kernelspec": {
   "display_name": "Python 3",
   "language": "python",
   "name": "python3"
  },
  "language_info": {
   "codemirror_mode": {
    "name": "ipython",
    "version": 3
   },
   "file_extension": ".py",
   "mimetype": "text/x-python",
   "name": "python",
   "nbconvert_exporter": "python",
   "pygments_lexer": "ipython3",
   "version": "3.8.5"
  }
 },
 "nbformat": 4,
 "nbformat_minor": 2
}
