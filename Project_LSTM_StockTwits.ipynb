{
 "cells": [
  {
   "cell_type": "markdown",
   "id": "9fb82ac9",
   "metadata": {},
   "source": [
    "# Importing libraries"
   ]
  },
  {
   "cell_type": "code",
   "execution_count": 123,
   "id": "58db297b",
   "metadata": {
    "colab": {
     "base_uri": "https://localhost:8080/"
    },
    "id": "9403ca36",
    "outputId": "11bafa20-02de-4829-81b6-ed8fe8256ecd"
   },
   "outputs": [
    {
     "name": "stderr",
     "output_type": "stream",
     "text": [
      "[nltk_data] Downloading package punkt to\n",
      "[nltk_data]     /Users/sachinsinghal/nltk_data...\n",
      "[nltk_data]   Package punkt is already up-to-date!\n",
      "[nltk_data] Downloading package stopwords to\n",
      "[nltk_data]     /Users/sachinsinghal/nltk_data...\n",
      "[nltk_data]   Package stopwords is already up-to-date!\n"
     ]
    }
   ],
   "source": [
    "%matplotlib inline\n",
    "import matplotlib.pyplot as plt\n",
    "import numpy as np\n",
    "import pandas as pd\n",
    "import tensorflow as tf\n",
    "from tensorflow import keras\n",
    "from tensorflow.keras import layers\n",
    "from tensorflow.keras import optimizers\n",
    "from tensorflow.keras.datasets import imdb \n",
    "\n",
    "\n",
    "from tensorflow.keras.preprocessing import sequence\n",
    "# import nltk\n",
    "from sklearn.model_selection import train_test_split\n",
    "import datetime\n",
    "import nltk\n",
    "nltk.download('punkt')\n",
    "nltk.download('stopwords')\n",
    "from nltk.corpus import stopwords"
   ]
  },
  {
   "cell_type": "code",
   "execution_count": 124,
   "id": "86c724bd",
   "metadata": {
    "id": "e71373a6"
   },
   "outputs": [],
   "source": [
    "from tensorflow.keras.datasets import imdb\n",
    "import pandas as pd\n",
    "import numpy as np\n",
    "from tensorflow.keras.layers import LSTM, Activation, Dropout, Dense, Input, Conv1D, MaxPooling1D, GlobalMaxPooling1D\n",
    "from tensorflow.keras.layers import Embedding\n",
    "from tensorflow.keras.models import Model\n",
    "import string\n",
    "import re\n",
    "from tensorflow.keras.preprocessing.text import Tokenizer\n",
    "from sklearn.preprocessing import LabelBinarizer\n",
    "from tensorflow.keras.preprocessing.sequence import pad_sequences\n",
    "import tensorflow.keras\n",
    "from sklearn.model_selection import train_test_split"
   ]
  },
  {
   "cell_type": "markdown",
   "id": "9669d591",
   "metadata": {},
   "source": [
    "# Reading the scrapped StockTwits dataset"
   ]
  },
  {
   "cell_type": "code",
   "execution_count": 162,
   "id": "c8a39922",
   "metadata": {
    "id": "0a5f5ac7"
   },
   "outputs": [],
   "source": [
    "df = pd.read_csv('/Users/sachinsinghal/Downloads/StockTwits_Tesla_Mar-Jun.csv')"
   ]
  },
  {
   "cell_type": "code",
   "execution_count": 164,
   "id": "98385fa2",
   "metadata": {
    "id": "O9rUu01oiP5U"
   },
   "outputs": [],
   "source": [
    "df=df[['body','senti','created_at']]"
   ]
  },
  {
   "cell_type": "markdown",
   "id": "3925a8a7",
   "metadata": {},
   "source": [
    "# Pre processing the dataset"
   ]
  },
  {
   "cell_type": "markdown",
   "id": "f79a07ba",
   "metadata": {},
   "source": [
    "## Removing punctuations"
   ]
  },
  {
   "cell_type": "code",
   "execution_count": 132,
   "id": "8f84b6a9",
   "metadata": {
    "id": "0de79aaf"
   },
   "outputs": [
    {
     "name": "stderr",
     "output_type": "stream",
     "text": [
      "<ipython-input-132-ad86b1a21a28>:5: SettingWithCopyWarning: \n",
      "A value is trying to be set on a copy of a slice from a DataFrame.\n",
      "Try using .loc[row_indexer,col_indexer] = value instead\n",
      "\n",
      "See the caveats in the documentation: https://pandas.pydata.org/pandas-docs/stable/user_guide/indexing.html#returning-a-view-versus-a-copy\n",
      "  data['length']=data['body'].apply(lambda x: len(x.split()))\n",
      "<ipython-input-132-ad86b1a21a28>:10: SettingWithCopyWarning: \n",
      "A value is trying to be set on a copy of a slice from a DataFrame.\n",
      "Try using .loc[row_indexer,col_indexer] = value instead\n",
      "\n",
      "See the caveats in the documentation: https://pandas.pydata.org/pandas-docs/stable/user_guide/indexing.html#returning-a-view-versus-a-copy\n",
      "  data['body']= data['body'].apply(lambda x : remove_tags(x))\n",
      "<ipython-input-132-ad86b1a21a28>:15: SettingWithCopyWarning: \n",
      "A value is trying to be set on a copy of a slice from a DataFrame.\n",
      "Try using .loc[row_indexer,col_indexer] = value instead\n",
      "\n",
      "See the caveats in the documentation: https://pandas.pydata.org/pandas-docs/stable/user_guide/indexing.html#returning-a-view-versus-a-copy\n",
      "  data['body']= data['body'].apply(lambda x : remove_tags(x))\n"
     ]
    }
   ],
   "source": [
    "test = df[df['senti']==\" \"]\n",
    "data = df[df['senti']!=\" \"]\n",
    "\n",
    "#Lengh of the text\n",
    "data['length']=data['body'].apply(lambda x: len(x.split()))\n",
    "\n",
    "def remove_tags(string):\n",
    "    result = re.sub('<.*?>','',string)\n",
    "    return result\n",
    "data['body']= data['body'].apply(lambda x : remove_tags(x))\n",
    "\n",
    "def remove_tags(string):\n",
    "    result = re.sub(r'[^\\w\\s]', ' ', string)\n",
    "    return result\n",
    "data['body']= data['body'].apply(lambda x : remove_tags(x))"
   ]
  },
  {
   "cell_type": "markdown",
   "id": "6a4dbfa8",
   "metadata": {},
   "source": [
    "## Filtering out tweets less than length of 3 and replacing @TSLA with blanks"
   ]
  },
  {
   "cell_type": "code",
   "execution_count": 133,
   "id": "294b2ab8",
   "metadata": {
    "colab": {
     "base_uri": "https://localhost:8080/"
    },
    "id": "675a12fe",
    "outputId": "44b96aa2-a331-43ae-de6c-7eaa852bc07e",
    "scrolled": false
   },
   "outputs": [
    {
     "name": "stderr",
     "output_type": "stream",
     "text": [
      "<ipython-input-133-77b3168da5b4>:3: SettingWithCopyWarning: \n",
      "A value is trying to be set on a copy of a slice from a DataFrame.\n",
      "Try using .loc[row_indexer,col_indexer] = value instead\n",
      "\n",
      "See the caveats in the documentation: https://pandas.pydata.org/pandas-docs/stable/user_guide/indexing.html#returning-a-view-versus-a-copy\n",
      "  data_1['body'] = data_1['body'].apply(lambda x:x.replace('@TSLA',''))\n"
     ]
    }
   ],
   "source": [
    "data_1 = data[data['length']>3]\n",
    "\n",
    "data_1['body'] = data_1['body'].apply(lambda x:x.replace('@TSLA',''))"
   ]
  },
  {
   "cell_type": "markdown",
   "id": "cd952ff5",
   "metadata": {},
   "source": [
    "## Filtering out the tweets posted between 9am to 4pm for average sentiment prediction"
   ]
  },
  {
   "cell_type": "code",
   "execution_count": 165,
   "id": "48f2fe78",
   "metadata": {
    "id": "bb8596a0"
   },
   "outputs": [],
   "source": [
    "df['created_at'] = df['created_at'].apply(lambda x:datetime.datetime.strptime(x, '%Y-%m-%d %H:%M:%S+00:00'))\n",
    "df['Hour'] = df['created_at'].apply(lambda x:x.hour)\n",
    "df['Month'] = df['created_at'].apply(lambda x:x.month)\n",
    "df['weekday'] = df['created_at'].apply(lambda x: x.weekday())\n",
    "df['day'] = df['created_at'].apply(lambda x: x.day)\n",
    "\n",
    "df_current = df[(df['weekday'] < 5) & (df['Hour'] > 8)  & (df['Hour'] < 16)]"
   ]
  },
  {
   "cell_type": "markdown",
   "id": "92a8e325",
   "metadata": {},
   "source": [
    "## Removing punctuations\n"
   ]
  },
  {
   "cell_type": "code",
   "execution_count": 166,
   "id": "20a542bb",
   "metadata": {
    "colab": {
     "base_uri": "https://localhost:8080/"
    },
    "id": "8cbb061d",
    "outputId": "f7ddda1b-f0ca-4608-d4d6-1c3863d9dfaf"
   },
   "outputs": [
    {
     "name": "stderr",
     "output_type": "stream",
     "text": [
      "/Users/sachinsinghal/miniforge3/envs/tf_m1/lib/python3.8/site-packages/pandas/core/frame.py:4308: SettingWithCopyWarning: \n",
      "A value is trying to be set on a copy of a slice from a DataFrame\n",
      "\n",
      "See the caveats in the documentation: https://pandas.pydata.org/pandas-docs/stable/user_guide/indexing.html#returning-a-view-versus-a-copy\n",
      "  return super().drop(\n",
      "<ipython-input-166-04bc749a8be7>:3: SettingWithCopyWarning: \n",
      "A value is trying to be set on a copy of a slice from a DataFrame.\n",
      "Try using .loc[row_indexer,col_indexer] = value instead\n",
      "\n",
      "See the caveats in the documentation: https://pandas.pydata.org/pandas-docs/stable/user_guide/indexing.html#returning-a-view-versus-a-copy\n",
      "  df_current['length']=df_current['body'].apply(lambda x: len(x.split()))\n",
      "<ipython-input-166-04bc749a8be7>:7: SettingWithCopyWarning: \n",
      "A value is trying to be set on a copy of a slice from a DataFrame.\n",
      "Try using .loc[row_indexer,col_indexer] = value instead\n",
      "\n",
      "See the caveats in the documentation: https://pandas.pydata.org/pandas-docs/stable/user_guide/indexing.html#returning-a-view-versus-a-copy\n",
      "  df_current['body']= df_current['body'].apply(lambda cw : remove_tags(cw))\n",
      "<ipython-input-166-04bc749a8be7>:11: SettingWithCopyWarning: \n",
      "A value is trying to be set on a copy of a slice from a DataFrame.\n",
      "Try using .loc[row_indexer,col_indexer] = value instead\n",
      "\n",
      "See the caveats in the documentation: https://pandas.pydata.org/pandas-docs/stable/user_guide/indexing.html#returning-a-view-versus-a-copy\n",
      "  df_current['body']= df_current['body'].apply(lambda cw : remove_tags(cw))\n"
     ]
    }
   ],
   "source": [
    "df_current.drop(['senti','Hour','Month','weekday'],axis=1, inplace=True)\n",
    "\n",
    "df_current['length']=df_current['body'].apply(lambda x: len(x.split()))\n",
    "def remove_tags(string):\n",
    "    result = re.sub('<.*?>','',string)\n",
    "    return result\n",
    "df_current['body']= df_current['body'].apply(lambda cw : remove_tags(cw))\n",
    "def remove_tags(string):\n",
    "    result = re.sub(r'[^\\w\\s]', ' ', string)\n",
    "    return result\n",
    "df_current['body']= df_current['body'].apply(lambda cw : remove_tags(cw))\n",
    "df_current = df_current[df_current['length']>3]\n",
    "df_current['body'] = df_current['body'].apply(lambda x:x.replace('BTC.X',''))"
   ]
  },
  {
   "cell_type": "markdown",
   "id": "a8b74fa7",
   "metadata": {},
   "source": [
    "# Tokenization and splitting the dataset "
   ]
  },
  {
   "cell_type": "code",
   "execution_count": 236,
   "id": "42ec8a72",
   "metadata": {
    "id": "eb18ff30"
   },
   "outputs": [],
   "source": [
    "data_1['body'] = data_1['body'].str.lower()\n",
    "\n",
    "reviews_tokenized = data_1['body'].apply(nltk.word_tokenize).tolist()\n",
    "reviews_list=[]\n",
    "for row in reviews_tokenized:\n",
    "    reviews_list.append([token.lower() for token in row if token.isalpha() if len(token)>1])\n",
    "\n",
    "X_train, X_test,Y_train, Y_test = train_test_split(reviews_list, data_1['senti'], test_size=0.2, random_state = 150)"
   ]
  },
  {
   "cell_type": "markdown",
   "id": "c160a8d3",
   "metadata": {},
   "source": [
    "## Converting Bullish and bearish labels to numerics\n"
   ]
  },
  {
   "cell_type": "code",
   "execution_count": 237,
   "id": "adb5bda4",
   "metadata": {
    "id": "918fea0e"
   },
   "outputs": [],
   "source": [
    "Y_train = np.array(list(map(lambda x: 1 if x==\"Bullish\" else 0, Y_train)))\n",
    "Y_test = np.array(list(map(lambda x: 1 if x==\"Bullish\" else 0, Y_test)))"
   ]
  },
  {
   "cell_type": "markdown",
   "id": "647f46ff",
   "metadata": {},
   "source": [
    "## Initializing a tokenizer"
   ]
  },
  {
   "cell_type": "code",
   "execution_count": 238,
   "id": "c8739363",
   "metadata": {
    "id": "703b7f7c"
   },
   "outputs": [],
   "source": [
    "#Create dictionary to store 5000 most frequent words \n",
    "tokenizer = Tokenizer(num_words=20000)\n",
    "tokenizer.fit_on_texts(X_train)"
   ]
  },
  {
   "cell_type": "code",
   "execution_count": 239,
   "id": "0f55eba8",
   "metadata": {
    "id": "b082e7af"
   },
   "outputs": [],
   "source": [
    "#\n",
    "max_features = 20000\n",
    "# cut texts after this number of words (among top max_features most common words)\n",
    "maxLen = 50\n",
    "batch_size = 32"
   ]
  },
  {
   "cell_type": "markdown",
   "id": "16495bf7",
   "metadata": {},
   "source": [
    "# LSTM model"
   ]
  },
  {
   "cell_type": "code",
   "execution_count": 232,
   "id": "6c85109d",
   "metadata": {
    "colab": {
     "base_uri": "https://localhost:8080/"
    },
    "id": "0600caae",
    "outputId": "9e4770de-8da5-478d-e361-16a9a9337bba"
   },
   "outputs": [],
   "source": [
    "model = keras.Sequential()\n",
    "# Embedding layer turns vectors of integers into dense real vectors of fixed size\n",
    "model.add(layers.Embedding(max_features, 64))\n",
    "# model.add(layers.LSTM(128, dropout=0.2, recurrent_dropout=0.2,return_sequences=True))\n",
    "# model.add(Dropout(0.2))\n",
    "model.add(layers.LSTM(128, return_sequences=False, dropout=0.2, recurrent_dropout=0.2))\n",
    "# model.add(Dropout(0.2))\n",
    "model.add(layers.Dense(1, activation='sigmoid', kernel_regularizer='l2'))\n",
    "\n",
    "optimizer = optimizers.RMSprop(learning_rate=0.001)\n",
    "model.compile(loss='binary_crossentropy',\n",
    "              optimizer=optimizer,\n",
    "              metrics=['accuracy'])"
   ]
  },
  {
   "cell_type": "code",
   "execution_count": 233,
   "id": "9ee3f466",
   "metadata": {},
   "outputs": [
    {
     "name": "stdout",
     "output_type": "stream",
     "text": [
      "Model: \"sequential_4\"\n",
      "_________________________________________________________________\n",
      "Layer (type)                 Output Shape              Param #   \n",
      "=================================================================\n",
      "embedding_4 (Embedding)      (None, None, 64)          1280000   \n",
      "_________________________________________________________________\n",
      "lstm_3 (LSTM)                (None, 128)               98816     \n",
      "_________________________________________________________________\n",
      "dense_4 (Dense)              (None, 1)                 129       \n",
      "=================================================================\n",
      "Total params: 1,378,945\n",
      "Trainable params: 1,378,945\n",
      "Non-trainable params: 0\n",
      "_________________________________________________________________\n"
     ]
    }
   ],
   "source": [
    "model.summary()"
   ]
  },
  {
   "cell_type": "code",
   "execution_count": 245,
   "id": "5dee693d",
   "metadata": {
    "colab": {
     "base_uri": "https://localhost:8080/"
    },
    "id": "1c865945",
    "outputId": "8f21d9e5-c478-490e-f5e2-986ea02e3c5c"
   },
   "outputs": [
    {
     "data": {
      "text/plain": [
       "(99064, 50)"
      ]
     },
     "execution_count": 245,
     "metadata": {},
     "output_type": "execute_result"
    }
   ],
   "source": [
    "#Get index of the tweets from the dictionary \n",
    "X_train_indices = tokenizer.texts_to_sequences(X_train)\n",
    "\n",
    "#Pad to get the length=max_length \n",
    "X_train_indices = pad_sequences(X_train_indices, maxlen=maxLen, padding='post')\n",
    "X_train_indices.shape"
   ]
  },
  {
   "cell_type": "code",
   "execution_count": 145,
   "id": "d129292f",
   "metadata": {
    "colab": {
     "base_uri": "https://localhost:8080/"
    },
    "id": "2ff49729",
    "outputId": "ee762df5-288c-4583-a4b0-72be6bac8a6e"
   },
   "outputs": [
    {
     "name": "stdout",
     "output_type": "stream",
     "text": [
      "Epoch 1/32\n",
      "620/620 [==============================] - 104s 165ms/step - loss: 0.5993 - accuracy: 0.7331 - val_loss: 0.5059 - val_accuracy: 0.7829\n",
      "Epoch 2/32\n",
      "620/620 [==============================] - 176s 284ms/step - loss: 0.4914 - accuracy: 0.7888 - val_loss: 0.4728 - val_accuracy: 0.7928\n",
      "Epoch 3/32\n",
      "620/620 [==============================] - 204s 329ms/step - loss: 0.4613 - accuracy: 0.8048 - val_loss: 0.5080 - val_accuracy: 0.8022\n",
      "Epoch 4/32\n",
      "620/620 [==============================] - 200s 323ms/step - loss: 0.4406 - accuracy: 0.8145 - val_loss: 0.4622 - val_accuracy: 0.8145\n",
      "Epoch 5/32\n",
      "620/620 [==============================] - 180s 290ms/step - loss: 0.4299 - accuracy: 0.8207 - val_loss: 0.4823 - val_accuracy: 0.8111\n",
      "Epoch 6/32\n",
      "620/620 [==============================] - 201s 324ms/step - loss: 0.4188 - accuracy: 0.8265 - val_loss: 0.4501 - val_accuracy: 0.8160\n",
      "Epoch 7/32\n",
      "620/620 [==============================] - 183s 295ms/step - loss: 0.4077 - accuracy: 0.8343 - val_loss: 0.4381 - val_accuracy: 0.8178\n",
      "Epoch 8/32\n",
      "620/620 [==============================] - 203s 327ms/step - loss: 0.3963 - accuracy: 0.8402 - val_loss: 0.4449 - val_accuracy: 0.8167\n",
      "Epoch 9/32\n",
      "620/620 [==============================] - 180s 291ms/step - loss: 0.3899 - accuracy: 0.8421 - val_loss: 0.4212 - val_accuracy: 0.8249\n",
      "Epoch 10/32\n",
      "620/620 [==============================] - 201s 324ms/step - loss: 0.3818 - accuracy: 0.8484 - val_loss: 0.4373 - val_accuracy: 0.8268\n",
      "Epoch 11/32\n",
      "620/620 [==============================] - 309s 499ms/step - loss: 0.3778 - accuracy: 0.8503 - val_loss: 0.4322 - val_accuracy: 0.8259\n"
     ]
    },
    {
     "data": {
      "text/plain": [
       "<tensorflow.python.keras.callbacks.History at 0x2b45c2670>"
      ]
     },
     "execution_count": 145,
     "metadata": {},
     "output_type": "execute_result"
    }
   ],
   "source": [
    "EPOCHS = 32\n",
    "BATCH = 128\n",
    "\n",
    "early_stop = keras.callbacks.EarlyStopping(monitor='val_loss', patience=2)\n",
    "\n",
    "model.fit(X_train_indices, Y_train,\n",
    "          batch_size=BATCH,\n",
    "          epochs=EPOCHS,\n",
    "          validation_split=0.2,\n",
    "          verbose = 1,\n",
    "          callbacks = [early_stop])"
   ]
  },
  {
   "cell_type": "code",
   "execution_count": 241,
   "id": "92856fbc",
   "metadata": {
    "colab": {
     "base_uri": "https://localhost:8080/"
    },
    "id": "bbecbaac",
    "outputId": "e2079a58-33fd-493c-c70d-9da9276623d9"
   },
   "outputs": [
    {
     "data": {
      "text/plain": [
       "(24766, 50)"
      ]
     },
     "execution_count": 241,
     "metadata": {},
     "output_type": "execute_result"
    }
   ],
   "source": [
    "X_test_indices = tokenizer.texts_to_sequences(X_test)\n",
    "X_test_indices = pad_sequences(X_test_indices, maxlen=maxLen, padding='post')\n",
    "X_test_indices.shape"
   ]
  },
  {
   "cell_type": "code",
   "execution_count": 147,
   "id": "1633b0d1",
   "metadata": {
    "colab": {
     "base_uri": "https://localhost:8080/"
    },
    "id": "20750fc9",
    "outputId": "d0a05d29-deb3-4fe0-d7ad-f3162230c0af",
    "scrolled": true
   },
   "outputs": [
    {
     "name": "stdout",
     "output_type": "stream",
     "text": [
      "Testing set accuracy: 82.70%\n"
     ]
    }
   ],
   "source": [
    "_, acc = model.evaluate(X_test_indices, Y_test, batch_size=64, verbose = 0)\n",
    "print(\"Testing set accuracy: {:.2f}%\".format(acc*100))"
   ]
  },
  {
   "cell_type": "markdown",
   "id": "690669f9",
   "metadata": {},
   "source": [
    "# Tokenizing the stocktwits scrapped data to be fed into the trained model"
   ]
  },
  {
   "cell_type": "code",
   "execution_count": 167,
   "id": "f8337bda",
   "metadata": {
    "id": "dc00574c"
   },
   "outputs": [],
   "source": [
    "df_current['body'] = df_current['body'].str.lower()\n",
    "\n",
    "reviews_tokenized = df_current['body'].apply(nltk.word_tokenize).tolist()\n",
    "current_data=[]\n",
    "for row in reviews_tokenized:\n",
    "    current_data.append([token.lower() for token in row if token.isalpha() if len(token)>1])"
   ]
  },
  {
   "cell_type": "code",
   "execution_count": 168,
   "id": "54642358",
   "metadata": {
    "colab": {
     "base_uri": "https://localhost:8080/"
    },
    "id": "BqhJ0PLBKapP",
    "outputId": "9488ec2d-488b-405a-f8ff-5f7778d86f7e"
   },
   "outputs": [
    {
     "data": {
      "text/plain": [
       "(69007, 50)"
      ]
     },
     "execution_count": 168,
     "metadata": {},
     "output_type": "execute_result"
    }
   ],
   "source": [
    "X_test_indices = tokenizer.texts_to_sequences(current_data)\n",
    "X_test_indices = pad_sequences(X_test_indices, maxlen=maxLen, padding='post')\n",
    "X_test_indices.shape"
   ]
  },
  {
   "cell_type": "markdown",
   "id": "d3210b29",
   "metadata": {},
   "source": [
    "## Using the trained model to predict the sentiment score on scrapped tweets\n"
   ]
  },
  {
   "cell_type": "code",
   "execution_count": 183,
   "id": "7d64cdb6",
   "metadata": {
    "id": "u0ID5OyXKZx1"
   },
   "outputs": [],
   "source": [
    "def add_score_predictions(df_new, X_test_indices):\n",
    "\n",
    "    df_new['sentiment score'] = 0\n",
    "\n",
    "    #     reviews_list_idx = pad_sequences(reviews_list_idx, maxlen=maxLen, padding='post')\n",
    "\n",
    "    review_preds = model.predict(X_test_indices)\n",
    "\n",
    "    df_new['sentiment score'] = review_preds\n",
    "\n",
    "    pred_sentiment = np.array(list(map(lambda x : 1 if x > 0.5 else 0 ,review_preds)))\n",
    "\n",
    "    df_new['predicted sentiment'] = 0\n",
    "\n",
    "    df_new['predicted sentiment'] = pred_sentiment\n",
    "\n",
    "    return df_new\n"
   ]
  },
  {
   "cell_type": "code",
   "execution_count": 186,
   "id": "d7a236d6",
   "metadata": {
    "id": "BEZSOITnKbna"
   },
   "outputs": [],
   "source": [
    "data = add_score_predictions(df_current, X_test_indices)"
   ]
  },
  {
   "cell_type": "code",
   "execution_count": 173,
   "id": "9e92204b",
   "metadata": {
    "colab": {
     "base_uri": "https://localhost:8080/",
     "height": 328
    },
    "id": "3SVfMvBGKb2e",
    "outputId": "95d2dd5d-05f7-45b4-ee44-e77da0b6173c",
    "scrolled": true
   },
   "outputs": [
    {
     "data": {
      "text/html": [
       "<div>\n",
       "<style scoped>\n",
       "    .dataframe tbody tr th:only-of-type {\n",
       "        vertical-align: middle;\n",
       "    }\n",
       "\n",
       "    .dataframe tbody tr th {\n",
       "        vertical-align: top;\n",
       "    }\n",
       "\n",
       "    .dataframe thead th {\n",
       "        text-align: right;\n",
       "    }\n",
       "</style>\n",
       "<table border=\"1\" class=\"dataframe\">\n",
       "  <thead>\n",
       "    <tr style=\"text-align: right;\">\n",
       "      <th></th>\n",
       "      <th>sentiment score</th>\n",
       "    </tr>\n",
       "    <tr>\n",
       "      <th>date</th>\n",
       "      <th></th>\n",
       "    </tr>\n",
       "  </thead>\n",
       "  <tbody>\n",
       "    <tr>\n",
       "      <th>2021-03-05</th>\n",
       "      <td>0.681795</td>\n",
       "    </tr>\n",
       "    <tr>\n",
       "      <th>2021-03-08</th>\n",
       "      <td>0.726278</td>\n",
       "    </tr>\n",
       "    <tr>\n",
       "      <th>2021-03-09</th>\n",
       "      <td>0.757621</td>\n",
       "    </tr>\n",
       "    <tr>\n",
       "      <th>2021-03-10</th>\n",
       "      <td>0.751788</td>\n",
       "    </tr>\n",
       "    <tr>\n",
       "      <th>2021-03-11</th>\n",
       "      <td>0.759723</td>\n",
       "    </tr>\n",
       "    <tr>\n",
       "      <th>...</th>\n",
       "      <td>...</td>\n",
       "    </tr>\n",
       "    <tr>\n",
       "      <th>2021-06-21</th>\n",
       "      <td>0.749216</td>\n",
       "    </tr>\n",
       "    <tr>\n",
       "      <th>2021-06-22</th>\n",
       "      <td>0.759940</td>\n",
       "    </tr>\n",
       "    <tr>\n",
       "      <th>2021-06-23</th>\n",
       "      <td>0.806856</td>\n",
       "    </tr>\n",
       "    <tr>\n",
       "      <th>2021-06-24</th>\n",
       "      <td>0.807731</td>\n",
       "    </tr>\n",
       "    <tr>\n",
       "      <th>2021-06-25</th>\n",
       "      <td>0.779948</td>\n",
       "    </tr>\n",
       "  </tbody>\n",
       "</table>\n",
       "<p>81 rows × 1 columns</p>\n",
       "</div>"
      ],
      "text/plain": [
       "            sentiment score\n",
       "date                       \n",
       "2021-03-05         0.681795\n",
       "2021-03-08         0.726278\n",
       "2021-03-09         0.757621\n",
       "2021-03-10         0.751788\n",
       "2021-03-11         0.759723\n",
       "...                     ...\n",
       "2021-06-21         0.749216\n",
       "2021-06-22         0.759940\n",
       "2021-06-23         0.806856\n",
       "2021-06-24         0.807731\n",
       "2021-06-25         0.779948\n",
       "\n",
       "[81 rows x 1 columns]"
      ]
     },
     "execution_count": 173,
     "metadata": {},
     "output_type": "execute_result"
    }
   ],
   "source": [
    "data['date'] = data['created_at'].apply(lambda x: x.date())\n",
    "data.groupby(['date']).aggregate({'sentiment score':np.average})"
   ]
  },
  {
   "cell_type": "code",
   "execution_count": 187,
   "id": "9440c4e7",
   "metadata": {
    "colab": {
     "base_uri": "https://localhost:8080/"
    },
    "id": "ZW5U5lBpOflI",
    "outputId": "4b7e6b22-9c08-4f94-a477-4b3f61c71696"
   },
   "outputs": [
    {
     "data": {
      "text/plain": [
       "1    55126\n",
       "0    13881\n",
       "Name: predicted sentiment, dtype: int64"
      ]
     },
     "execution_count": 187,
     "metadata": {},
     "output_type": "execute_result"
    }
   ],
   "source": [
    "data['predicted sentiment'].value_counts()"
   ]
  },
  {
   "cell_type": "code",
   "execution_count": 189,
   "id": "2e244045",
   "metadata": {},
   "outputs": [],
   "source": [
    "import matplotlib.pyplot as plt"
   ]
  },
  {
   "cell_type": "markdown",
   "id": "d8ddd2bd",
   "metadata": {},
   "source": [
    "## Plotting the histogram of the sentiment score"
   ]
  },
  {
   "cell_type": "code",
   "execution_count": 190,
   "id": "9057c613",
   "metadata": {
    "scrolled": true
   },
   "outputs": [
    {
     "data": {
      "text/plain": [
       "(array([ 3454.,  4035.,  2102.,  2771.,  1544.,  4685.,  3572.,  6944.,\n",
       "        10370., 29530.]),\n",
       " array([0.00393873, 0.10338531, 0.2028319 , 0.3022785 , 0.40172505,\n",
       "        0.50117165, 0.60061824, 0.70006484, 0.7995114 , 0.89895797,\n",
       "        0.99840456], dtype=float32),\n",
       " <BarContainer object of 10 artists>)"
      ]
     },
     "execution_count": 190,
     "metadata": {},
     "output_type": "execute_result"
    },
    {
     "data": {
      "image/png": "[encoded data removed]",
      "text/plain": [
       "<Figure size 432x288 with 1 Axes>"
      ]
     },
     "metadata": {
      "needs_background": "light"
     },
     "output_type": "display_data"
    }
   ],
   "source": [
    "plt.hist(data['sentiment score'])"
   ]
  },
  {
   "cell_type": "markdown",
   "id": "1f453595",
   "metadata": {},
   "source": [
    "# Importing the ticker data from Yahoo finance"
   ]
  },
  {
   "cell_type": "code",
   "execution_count": 205,
   "id": "e25d3a64",
   "metadata": {
    "colab": {
     "base_uri": "https://localhost:8080/",
     "height": 1000
    },
    "id": "IReidYV5KcFr",
    "outputId": "69252dac-eb76-44b3-d70c-4a5293ecd92a"
   },
   "outputs": [
    {
     "data": {
      "text/html": [
       "<div>\n",
       "<style scoped>\n",
       "    .dataframe tbody tr th:only-of-type {\n",
       "        vertical-align: middle;\n",
       "    }\n",
       "\n",
       "    .dataframe tbody tr th {\n",
       "        vertical-align: top;\n",
       "    }\n",
       "\n",
       "    .dataframe thead th {\n",
       "        text-align: right;\n",
       "    }\n",
       "</style>\n",
       "<table border=\"1\" class=\"dataframe\">\n",
       "  <thead>\n",
       "    <tr style=\"text-align: right;\">\n",
       "      <th></th>\n",
       "      <th>Open</th>\n",
       "      <th>High</th>\n",
       "      <th>Low</th>\n",
       "      <th>Close</th>\n",
       "      <th>Volume</th>\n",
       "      <th>Dividends</th>\n",
       "      <th>Stock Splits</th>\n",
       "    </tr>\n",
       "    <tr>\n",
       "      <th>Date</th>\n",
       "      <th></th>\n",
       "      <th></th>\n",
       "      <th></th>\n",
       "      <th></th>\n",
       "      <th></th>\n",
       "      <th></th>\n",
       "      <th></th>\n",
       "    </tr>\n",
       "  </thead>\n",
       "  <tbody>\n",
       "    <tr>\n",
       "      <th>2021-03-01</th>\n",
       "      <td>690.109985</td>\n",
       "      <td>719.000000</td>\n",
       "      <td>685.049988</td>\n",
       "      <td>718.429993</td>\n",
       "      <td>27136200</td>\n",
       "      <td>0</td>\n",
       "      <td>0</td>\n",
       "    </tr>\n",
       "    <tr>\n",
       "      <th>2021-03-02</th>\n",
       "      <td>718.280029</td>\n",
       "      <td>721.109985</td>\n",
       "      <td>685.000000</td>\n",
       "      <td>686.440002</td>\n",
       "      <td>23732200</td>\n",
       "      <td>0</td>\n",
       "      <td>0</td>\n",
       "    </tr>\n",
       "    <tr>\n",
       "      <th>2021-03-03</th>\n",
       "      <td>687.989990</td>\n",
       "      <td>700.700012</td>\n",
       "      <td>651.710022</td>\n",
       "      <td>653.200012</td>\n",
       "      <td>30208000</td>\n",
       "      <td>0</td>\n",
       "      <td>0</td>\n",
       "    </tr>\n",
       "    <tr>\n",
       "      <th>2021-03-04</th>\n",
       "      <td>655.799988</td>\n",
       "      <td>668.450012</td>\n",
       "      <td>600.000000</td>\n",
       "      <td>621.440002</td>\n",
       "      <td>65919500</td>\n",
       "      <td>0</td>\n",
       "      <td>0</td>\n",
       "    </tr>\n",
       "    <tr>\n",
       "      <th>2021-03-05</th>\n",
       "      <td>626.059998</td>\n",
       "      <td>627.840027</td>\n",
       "      <td>539.489990</td>\n",
       "      <td>597.950012</td>\n",
       "      <td>89396500</td>\n",
       "      <td>0</td>\n",
       "      <td>0</td>\n",
       "    </tr>\n",
       "    <tr>\n",
       "      <th>...</th>\n",
       "      <td>...</td>\n",
       "      <td>...</td>\n",
       "      <td>...</td>\n",
       "      <td>...</td>\n",
       "      <td>...</td>\n",
       "      <td>...</td>\n",
       "      <td>...</td>\n",
       "    </tr>\n",
       "    <tr>\n",
       "      <th>2021-06-23</th>\n",
       "      <td>632.000000</td>\n",
       "      <td>657.200012</td>\n",
       "      <td>630.039978</td>\n",
       "      <td>656.570007</td>\n",
       "      <td>31099200</td>\n",
       "      <td>0</td>\n",
       "      <td>0</td>\n",
       "    </tr>\n",
       "    <tr>\n",
       "      <th>2021-06-24</th>\n",
       "      <td>674.989990</td>\n",
       "      <td>697.619995</td>\n",
       "      <td>667.609985</td>\n",
       "      <td>679.820007</td>\n",
       "      <td>45982400</td>\n",
       "      <td>0</td>\n",
       "      <td>0</td>\n",
       "    </tr>\n",
       "    <tr>\n",
       "      <th>2021-06-25</th>\n",
       "      <td>689.580017</td>\n",
       "      <td>693.809998</td>\n",
       "      <td>668.700012</td>\n",
       "      <td>671.869995</td>\n",
       "      <td>32496700</td>\n",
       "      <td>0</td>\n",
       "      <td>0</td>\n",
       "    </tr>\n",
       "    <tr>\n",
       "      <th>2021-06-28</th>\n",
       "      <td>671.640015</td>\n",
       "      <td>694.700012</td>\n",
       "      <td>670.320007</td>\n",
       "      <td>688.719971</td>\n",
       "      <td>21628200</td>\n",
       "      <td>0</td>\n",
       "      <td>0</td>\n",
       "    </tr>\n",
       "    <tr>\n",
       "      <th>2021-06-29</th>\n",
       "      <td>684.650024</td>\n",
       "      <td>687.510010</td>\n",
       "      <td>675.890015</td>\n",
       "      <td>680.760010</td>\n",
       "      <td>17381300</td>\n",
       "      <td>0</td>\n",
       "      <td>0</td>\n",
       "    </tr>\n",
       "  </tbody>\n",
       "</table>\n",
       "<p>85 rows × 7 columns</p>\n",
       "</div>"
      ],
      "text/plain": [
       "                  Open        High         Low       Close    Volume  \\\n",
       "Date                                                                   \n",
       "2021-03-01  690.109985  719.000000  685.049988  718.429993  27136200   \n",
       "2021-03-02  718.280029  721.109985  685.000000  686.440002  23732200   \n",
       "2021-03-03  687.989990  700.700012  651.710022  653.200012  30208000   \n",
       "2021-03-04  655.799988  668.450012  600.000000  621.440002  65919500   \n",
       "2021-03-05  626.059998  627.840027  539.489990  597.950012  89396500   \n",
       "...                ...         ...         ...         ...       ...   \n",
       "2021-06-23  632.000000  657.200012  630.039978  656.570007  31099200   \n",
       "2021-06-24  674.989990  697.619995  667.609985  679.820007  45982400   \n",
       "2021-06-25  689.580017  693.809998  668.700012  671.869995  32496700   \n",
       "2021-06-28  671.640015  694.700012  670.320007  688.719971  21628200   \n",
       "2021-06-29  684.650024  687.510010  675.890015  680.760010  17381300   \n",
       "\n",
       "            Dividends  Stock Splits  \n",
       "Date                                 \n",
       "2021-03-01          0             0  \n",
       "2021-03-02          0             0  \n",
       "2021-03-03          0             0  \n",
       "2021-03-04          0             0  \n",
       "2021-03-05          0             0  \n",
       "...               ...           ...  \n",
       "2021-06-23          0             0  \n",
       "2021-06-24          0             0  \n",
       "2021-06-25          0             0  \n",
       "2021-06-28          0             0  \n",
       "2021-06-29          0             0  \n",
       "\n",
       "[85 rows x 7 columns]"
      ]
     },
     "execution_count": 205,
     "metadata": {},
     "output_type": "execute_result"
    }
   ],
   "source": [
    "import yfinance as yf\n",
    "\n",
    "#define the ticker symbol\n",
    "tickerSymbol = 'TSLA'\n",
    "\n",
    "#get data on this ticker\n",
    "tickerData = yf.Ticker(tickerSymbol)\n",
    "\n",
    "#get the historical prices for this ticker\n",
    "tickerDf = tickerData.history(period='1d', start='2021-3-1', end='2021-6-30')\n",
    "\n",
    "#see your data\n",
    "tickerDf\n"
   ]
  },
  {
   "cell_type": "markdown",
   "id": "4ea43a87",
   "metadata": {},
   "source": [
    "## Aggregating the data daywise"
   ]
  },
  {
   "cell_type": "code",
   "execution_count": 206,
   "id": "695b4bad",
   "metadata": {
    "id": "7JQER7JPnwRp"
   },
   "outputs": [],
   "source": [
    "aggregated=data.groupby(['date']).aggregate({'predicted sentiment':np.sum,'day':np.size,'sentiment score':np.average}).reset_index()"
   ]
  },
  {
   "cell_type": "code",
   "execution_count": 208,
   "id": "9f5be758",
   "metadata": {},
   "outputs": [],
   "source": [
    "data['predicted sentiment'] = data['predicted sentiment'].astype('int64')"
   ]
  },
  {
   "cell_type": "code",
   "execution_count": 209,
   "id": "d3295dd6",
   "metadata": {},
   "outputs": [],
   "source": [
    "aggregated.rename({'predicted sentiment':'+ve Tweets','day':'Total Tweets','sentiment score':'Average Sentiment'},axis=1,inplace=True)"
   ]
  },
  {
   "cell_type": "code",
   "execution_count": 210,
   "id": "b161fdb2",
   "metadata": {},
   "outputs": [],
   "source": [
    "aggregated['+ve Tweets ratio']=aggregated['+ve Tweets']/aggregated['Total Tweets']"
   ]
  },
  {
   "cell_type": "markdown",
   "id": "fba4fc80",
   "metadata": {},
   "source": [
    "## Defining the threshold"
   ]
  },
  {
   "cell_type": "code",
   "execution_count": 223,
   "id": "9f74a6b5",
   "metadata": {},
   "outputs": [
    {
     "data": {
      "text/plain": [
       "0.72975636"
      ]
     },
     "execution_count": 223,
     "metadata": {},
     "output_type": "execute_result"
    }
   ],
   "source": [
    "data['sentiment score'].mean()"
   ]
  },
  {
   "cell_type": "code",
   "execution_count": 211,
   "id": "2efa7ce3",
   "metadata": {},
   "outputs": [],
   "source": [
    "aggregated['Predicted_sentiment']=aggregated['Average Sentiment'].apply(lambda x: 1 if x>data['sentiment score'].mean() else 0)"
   ]
  },
  {
   "cell_type": "code",
   "execution_count": 212,
   "id": "845e537a",
   "metadata": {},
   "outputs": [],
   "source": [
    "aggregated_1 = aggregated.set_index('date')"
   ]
  },
  {
   "cell_type": "markdown",
   "id": "1c7c4db2",
   "metadata": {},
   "source": [
    "# Merging the TSLA ticker data with our aggregated data"
   ]
  },
  {
   "cell_type": "code",
   "execution_count": 213,
   "id": "d1197983",
   "metadata": {},
   "outputs": [],
   "source": [
    "aggregated_2 = aggregated_1.join(tickerDf,how='outer')"
   ]
  },
  {
   "cell_type": "code",
   "execution_count": 214,
   "id": "ebc20d63",
   "metadata": {},
   "outputs": [],
   "source": [
    "aggregated_2.drop(['High','Low','Volume','Dividends','Stock Splits'],axis=1,inplace=True)"
   ]
  },
  {
   "cell_type": "code",
   "execution_count": 215,
   "id": "2af4f070",
   "metadata": {},
   "outputs": [],
   "source": [
    "aggregated_2.dropna(inplace=True)"
   ]
  },
  {
   "cell_type": "code",
   "execution_count": 217,
   "id": "4e8b8a7f",
   "metadata": {},
   "outputs": [],
   "source": [
    "def f(x):\n",
    "    if x['Close'] > x['Open']:\n",
    "        return 'Positive'\n",
    "    else:\n",
    "        return 'Negative'\n",
    "        \n",
    "aggregated_2['Actual_Market']=aggregated_2.apply(f, axis=1)"
   ]
  },
  {
   "cell_type": "code",
   "execution_count": 219,
   "id": "28857764",
   "metadata": {},
   "outputs": [],
   "source": [
    "aggregated_3 = aggregated_2[['Predicted_sentiment','Actual_Market']]"
   ]
  },
  {
   "cell_type": "code",
   "execution_count": 220,
   "id": "7401b19a",
   "metadata": {},
   "outputs": [
    {
     "name": "stderr",
     "output_type": "stream",
     "text": [
      "/Users/sachinsinghal/miniforge3/envs/tf_m1/lib/python3.8/site-packages/pandas/core/series.py:4509: SettingWithCopyWarning: \n",
      "A value is trying to be set on a copy of a slice from a DataFrame\n",
      "\n",
      "See the caveats in the documentation: https://pandas.pydata.org/pandas-docs/stable/user_guide/indexing.html#returning-a-view-versus-a-copy\n",
      "  return super().replace(\n"
     ]
    }
   ],
   "source": [
    "aggregated_3['Actual_Market'].replace({'Negative':0,'Positive':1},inplace=True)"
   ]
  },
  {
   "cell_type": "code",
   "execution_count": 221,
   "id": "b40b40b7",
   "metadata": {
    "scrolled": true
   },
   "outputs": [
    {
     "name": "stderr",
     "output_type": "stream",
     "text": [
      "<ipython-input-221-5f801247c23a>:7: SettingWithCopyWarning: \n",
      "A value is trying to be set on a copy of a slice from a DataFrame.\n",
      "Try using .loc[row_indexer,col_indexer] = value instead\n",
      "\n",
      "See the caveats in the documentation: https://pandas.pydata.org/pandas-docs/stable/user_guide/indexing.html#returning-a-view-versus-a-copy\n",
      "  aggregated_3['Match']=aggregated_3.apply(f, axis=1)\n"
     ]
    }
   ],
   "source": [
    "def f(x):\n",
    "    if x['Predicted_sentiment'] == x['Actual_Market']:\n",
    "        return True\n",
    "    else:\n",
    "        return False\n",
    "        \n",
    "aggregated_3['Match']=aggregated_3.apply(f, axis=1)"
   ]
  },
  {
   "cell_type": "markdown",
   "id": "618e429f",
   "metadata": {},
   "source": [
    "# Accuracy of our predicted sentiment with that of our yahoo finance data\n"
   ]
  },
  {
   "cell_type": "code",
   "execution_count": 222,
   "id": "19859225",
   "metadata": {},
   "outputs": [
    {
     "data": {
      "text/plain": [
       "59.49367088607595"
      ]
     },
     "execution_count": 222,
     "metadata": {},
     "output_type": "execute_result"
    }
   ],
   "source": [
    "accuracy = (aggregated_3['Match'].sum()/aggregated_3['Match'].count())*100\n",
    "accuracy"
   ]
  },
  {
   "cell_type": "code",
   "execution_count": 224,
   "id": "25e30a6f",
   "metadata": {},
   "outputs": [
    {
     "data": {
      "text/html": [
       "<div>\n",
       "<style scoped>\n",
       "    .dataframe tbody tr th:only-of-type {\n",
       "        vertical-align: middle;\n",
       "    }\n",
       "\n",
       "    .dataframe tbody tr th {\n",
       "        vertical-align: top;\n",
       "    }\n",
       "\n",
       "    .dataframe thead th {\n",
       "        text-align: right;\n",
       "    }\n",
       "</style>\n",
       "<table border=\"1\" class=\"dataframe\">\n",
       "  <thead>\n",
       "    <tr style=\"text-align: right;\">\n",
       "      <th></th>\n",
       "      <th>Predicted_sentiment</th>\n",
       "      <th>Actual_Market</th>\n",
       "      <th>Match</th>\n",
       "    </tr>\n",
       "  </thead>\n",
       "  <tbody>\n",
       "    <tr>\n",
       "      <th>2021-03-05</th>\n",
       "      <td>0.0</td>\n",
       "      <td>0</td>\n",
       "      <td>True</td>\n",
       "    </tr>\n",
       "    <tr>\n",
       "      <th>2021-03-08</th>\n",
       "      <td>0.0</td>\n",
       "      <td>0</td>\n",
       "      <td>True</td>\n",
       "    </tr>\n",
       "    <tr>\n",
       "      <th>2021-03-09</th>\n",
       "      <td>1.0</td>\n",
       "      <td>1</td>\n",
       "      <td>True</td>\n",
       "    </tr>\n",
       "    <tr>\n",
       "      <th>2021-03-10</th>\n",
       "      <td>1.0</td>\n",
       "      <td>0</td>\n",
       "      <td>False</td>\n",
       "    </tr>\n",
       "    <tr>\n",
       "      <th>2021-03-11</th>\n",
       "      <td>1.0</td>\n",
       "      <td>1</td>\n",
       "      <td>True</td>\n",
       "    </tr>\n",
       "    <tr>\n",
       "      <th>...</th>\n",
       "      <td>...</td>\n",
       "      <td>...</td>\n",
       "      <td>...</td>\n",
       "    </tr>\n",
       "    <tr>\n",
       "      <th>2021-06-21</th>\n",
       "      <td>1.0</td>\n",
       "      <td>0</td>\n",
       "      <td>False</td>\n",
       "    </tr>\n",
       "    <tr>\n",
       "      <th>2021-06-22</th>\n",
       "      <td>1.0</td>\n",
       "      <td>1</td>\n",
       "      <td>True</td>\n",
       "    </tr>\n",
       "    <tr>\n",
       "      <th>2021-06-23</th>\n",
       "      <td>1.0</td>\n",
       "      <td>1</td>\n",
       "      <td>True</td>\n",
       "    </tr>\n",
       "    <tr>\n",
       "      <th>2021-06-24</th>\n",
       "      <td>1.0</td>\n",
       "      <td>1</td>\n",
       "      <td>True</td>\n",
       "    </tr>\n",
       "    <tr>\n",
       "      <th>2021-06-25</th>\n",
       "      <td>1.0</td>\n",
       "      <td>0</td>\n",
       "      <td>False</td>\n",
       "    </tr>\n",
       "  </tbody>\n",
       "</table>\n",
       "<p>79 rows × 3 columns</p>\n",
       "</div>"
      ],
      "text/plain": [
       "            Predicted_sentiment  Actual_Market  Match\n",
       "2021-03-05                  0.0              0   True\n",
       "2021-03-08                  0.0              0   True\n",
       "2021-03-09                  1.0              1   True\n",
       "2021-03-10                  1.0              0  False\n",
       "2021-03-11                  1.0              1   True\n",
       "...                         ...            ...    ...\n",
       "2021-06-21                  1.0              0  False\n",
       "2021-06-22                  1.0              1   True\n",
       "2021-06-23                  1.0              1   True\n",
       "2021-06-24                  1.0              1   True\n",
       "2021-06-25                  1.0              0  False\n",
       "\n",
       "[79 rows x 3 columns]"
      ]
     },
     "execution_count": 224,
     "metadata": {},
     "output_type": "execute_result"
    }
   ],
   "source": [
    "aggregated_3"
   ]
  },
  {
   "cell_type": "markdown",
   "id": "77fa61e2",
   "metadata": {},
   "source": [
    "# RNN"
   ]
  },
  {
   "cell_type": "code",
   "execution_count": 234,
   "id": "f57bd555",
   "metadata": {},
   "outputs": [],
   "source": [
    "model = keras.Sequential()\n",
    "# Embedding layer turns vectors of integers into dense real vectors of fixed size\n",
    "model.add(layers.Embedding(max_features, 16))\n",
    "model.add(layers.SimpleRNN(32, dropout=0.2, recurrent_dropout=0.2))\n",
    "model.add(layers.Dense(1, activation='sigmoid'))\n",
    "\n",
    "optimizer = optimizers.RMSprop(learning_rate=0.001)\n",
    "model.compile(loss='binary_crossentropy',\n",
    "              optimizer=optimizer,\n",
    "              metrics=['accuracy'])"
   ]
  },
  {
   "cell_type": "code",
   "execution_count": 235,
   "id": "2ff2ad25",
   "metadata": {},
   "outputs": [
    {
     "name": "stdout",
     "output_type": "stream",
     "text": [
      "Model: \"sequential_5\"\n",
      "_________________________________________________________________\n",
      "Layer (type)                 Output Shape              Param #   \n",
      "=================================================================\n",
      "embedding_5 (Embedding)      (None, None, 16)          320000    \n",
      "_________________________________________________________________\n",
      "simple_rnn_1 (SimpleRNN)     (None, 32)                1568      \n",
      "_________________________________________________________________\n",
      "dense_5 (Dense)              (None, 1)                 33        \n",
      "=================================================================\n",
      "Total params: 321,601\n",
      "Trainable params: 321,601\n",
      "Non-trainable params: 0\n",
      "_________________________________________________________________\n"
     ]
    }
   ],
   "source": [
    "model.summary()"
   ]
  },
  {
   "cell_type": "code",
   "execution_count": 248,
   "id": "2cc126bf",
   "metadata": {},
   "outputs": [
    {
     "name": "stdout",
     "output_type": "stream",
     "text": [
      "Epoch 1/32\n",
      "1239/1239 [==============================] - 12s 10ms/step - loss: 0.5757 - accuracy: 0.7335 - val_loss: 0.5818 - val_accuracy: 0.7290\n",
      "Epoch 2/32\n",
      "1239/1239 [==============================] - 12s 10ms/step - loss: 0.5739 - accuracy: 0.7342 - val_loss: 0.5810 - val_accuracy: 0.7304\n",
      "Epoch 3/32\n",
      "1239/1239 [==============================] - 12s 10ms/step - loss: 0.5714 - accuracy: 0.7353 - val_loss: 0.5812 - val_accuracy: 0.7300\n",
      "Epoch 4/32\n",
      "1239/1239 [==============================] - 12s 10ms/step - loss: 0.5707 - accuracy: 0.7356 - val_loss: 0.5797 - val_accuracy: 0.7304\n",
      "Epoch 5/32\n",
      "1239/1239 [==============================] - 12s 10ms/step - loss: 0.5691 - accuracy: 0.7358 - val_loss: 0.5810 - val_accuracy: 0.7294\n",
      "Epoch 6/32\n",
      "1239/1239 [==============================] - 13s 10ms/step - loss: 0.5675 - accuracy: 0.7366 - val_loss: 0.5818 - val_accuracy: 0.7295\n",
      "Testing set accuracy: 72.62%\n"
     ]
    }
   ],
   "source": [
    "EPOCHS = 32\n",
    "BATCH = 64\n",
    "\n",
    "early_stop = keras.callbacks.EarlyStopping(monitor='val_loss', patience=2)\n",
    "\n",
    "model.fit(X_train_indices, Y_train,\n",
    "          batch_size=BATCH,\n",
    "          epochs=EPOCHS,\n",
    "          validation_split=0.2,\n",
    "          verbose = 1,\n",
    "          callbacks = [early_stop])\n",
    "\n",
    "_, acc = model.evaluate(X_test_indices, Y_test, batch_size=64, verbose = 0)\n",
    "print(\"Testing set accuracy: {:.2f}%\".format(acc*100))"
   ]
  },
  {
   "cell_type": "markdown",
   "id": "a1a6d4ff",
   "metadata": {},
   "source": [
    "# RNN using the entire sequence instead of the last output"
   ]
  },
  {
   "cell_type": "code",
   "execution_count": 250,
   "id": "205b94d5",
   "metadata": {},
   "outputs": [
    {
     "name": "stdout",
     "output_type": "stream",
     "text": [
      "Model: \"sequential_7\"\n",
      "_________________________________________________________________\n",
      "Layer (type)                 Output Shape              Param #   \n",
      "=================================================================\n",
      "embedding_6 (Embedding)      (None, 50, 16)            320000    \n",
      "_________________________________________________________________\n",
      "simple_rnn_2 (SimpleRNN)     (None, 50, 32)            1568      \n",
      "_________________________________________________________________\n",
      "flatten (Flatten)            (None, 1600)              0         \n",
      "_________________________________________________________________\n",
      "dense_6 (Dense)              (None, 1)                 1601      \n",
      "=================================================================\n",
      "Total params: 323,169\n",
      "Trainable params: 323,169\n",
      "Non-trainable params: 0\n",
      "_________________________________________________________________\n"
     ]
    }
   ],
   "source": [
    "model = keras.Sequential()\n",
    "# Embedding layer turns vectors of integers into dense real vectors of fixed size\n",
    "model.add(layers.Embedding(max_features, 16, input_length=maxLen))\n",
    "model.add(layers.SimpleRNN(32, return_sequences=True, dropout=0.2, recurrent_dropout=0.2))\n",
    "model.add(layers.Flatten())\n",
    "model.add(layers.Dense(1, activation='sigmoid'))\n",
    "\n",
    "optimizer = optimizers.RMSprop(learning_rate=0.001)\n",
    "model.compile(loss='binary_crossentropy',\n",
    "              optimizer=optimizer,\n",
    "              metrics=['accuracy'])\n",
    "model.summary()"
   ]
  },
  {
   "cell_type": "code",
   "execution_count": 251,
   "id": "9b3ce0a3",
   "metadata": {},
   "outputs": [
    {
     "name": "stdout",
     "output_type": "stream",
     "text": [
      "Epoch 1/32\n",
      "1239/1239 [==============================] - 13s 10ms/step - loss: 0.5604 - accuracy: 0.7361 - val_loss: 0.4631 - val_accuracy: 0.7837\n",
      "Epoch 2/32\n",
      "1239/1239 [==============================] - 12s 10ms/step - loss: 0.4575 - accuracy: 0.7913 - val_loss: 0.4475 - val_accuracy: 0.7974\n",
      "Epoch 3/32\n",
      "1239/1239 [==============================] - 12s 10ms/step - loss: 0.4355 - accuracy: 0.8050 - val_loss: 0.4412 - val_accuracy: 0.7988\n",
      "Epoch 4/32\n",
      "1239/1239 [==============================] - 13s 10ms/step - loss: 0.4272 - accuracy: 0.8077 - val_loss: 0.4402 - val_accuracy: 0.8015\n",
      "Epoch 5/32\n",
      "1239/1239 [==============================] - 12s 10ms/step - loss: 0.4167 - accuracy: 0.8131 - val_loss: 0.4405 - val_accuracy: 0.8022\n",
      "Epoch 6/32\n",
      "1239/1239 [==============================] - 12s 10ms/step - loss: 0.4062 - accuracy: 0.8203 - val_loss: 0.4465 - val_accuracy: 0.8025\n",
      "Testing set accuracy: 79.46%\n"
     ]
    }
   ],
   "source": [
    "EPOCHS = 32\n",
    "BATCH = 64\n",
    "\n",
    "early_stop = keras.callbacks.EarlyStopping(monitor='val_loss', patience=2)\n",
    "\n",
    "model.fit(X_train_indices, Y_train,\n",
    "          batch_size=BATCH,\n",
    "          epochs=EPOCHS,\n",
    "          validation_split=0.2,\n",
    "          verbose = 1,\n",
    "          callbacks = [early_stop])\n",
    "\n",
    "_, acc = model.evaluate(X_test_indices, Y_test, batch_size=64, verbose = 0)\n",
    "print(\"Testing set accuracy: {:.2f}%\".format(acc*100))"
   ]
  },
  {
   "cell_type": "markdown",
   "id": "c93b880e",
   "metadata": {},
   "source": [
    "# Stacked LSTM"
   ]
  },
  {
   "cell_type": "code",
   "execution_count": 252,
   "id": "64db3776",
   "metadata": {},
   "outputs": [
    {
     "name": "stdout",
     "output_type": "stream",
     "text": [
      "Model: \"sequential_8\"\n",
      "_________________________________________________________________\n",
      "Layer (type)                 Output Shape              Param #   \n",
      "=================================================================\n",
      "embedding_7 (Embedding)      (None, None, 16)          320000    \n",
      "_________________________________________________________________\n",
      "lstm_4 (LSTM)                (None, None, 128)         74240     \n",
      "_________________________________________________________________\n",
      "lstm_5 (LSTM)                (None, 128)               131584    \n",
      "_________________________________________________________________\n",
      "dense_7 (Dense)              (None, 1)                 129       \n",
      "=================================================================\n",
      "Total params: 525,953\n",
      "Trainable params: 525,953\n",
      "Non-trainable params: 0\n",
      "_________________________________________________________________\n"
     ]
    }
   ],
   "source": [
    "model = keras.Sequential()\n",
    "# Embedding layer turns vectors of integers into dense real vectors of fixed size\n",
    "model.add(layers.Embedding(max_features, 16))\n",
    "model.add(layers.LSTM(128, return_sequences=True, dropout=0.2, recurrent_dropout=0.2))\n",
    "model.add(layers.LSTM(128, return_sequences=False, dropout=0.2, recurrent_dropout=0.2))\n",
    "model.add(layers.Dense(1, activation='sigmoid'))\n",
    "\n",
    "optimizer = optimizers.RMSprop(learning_rate=0.001)\n",
    "model.compile(loss='binary_crossentropy',\n",
    "              optimizer=optimizer,\n",
    "              metrics=['accuracy'])\n",
    "model.summary()"
   ]
  },
  {
   "cell_type": "code",
   "execution_count": 253,
   "id": "2828aacb",
   "metadata": {},
   "outputs": [
    {
     "name": "stdout",
     "output_type": "stream",
     "text": [
      "Epoch 1/32\n",
      "1239/1239 [==============================] - 606s 488ms/step - loss: 0.5766 - accuracy: 0.7275 - val_loss: 0.4991 - val_accuracy: 0.7817\n",
      "Epoch 2/32\n",
      "1239/1239 [==============================] - 858s 692ms/step - loss: 0.4729 - accuracy: 0.7902 - val_loss: 0.4704 - val_accuracy: 0.7985\n",
      "Epoch 3/32\n",
      "1239/1239 [==============================] - 531s 429ms/step - loss: 0.4594 - accuracy: 0.7923 - val_loss: 0.4688 - val_accuracy: 0.7995\n",
      "Epoch 4/32\n",
      "1239/1239 [==============================] - 583s 470ms/step - loss: 0.4500 - accuracy: 0.8016 - val_loss: 0.4503 - val_accuracy: 0.8011\n",
      "Epoch 5/32\n",
      "1239/1239 [==============================] - 598s 483ms/step - loss: 0.4418 - accuracy: 0.8051 - val_loss: 0.4450 - val_accuracy: 0.8074\n",
      "Epoch 6/32\n",
      "1239/1239 [==============================] - 538s 434ms/step - loss: 0.4221 - accuracy: 0.8145 - val_loss: 0.4163 - val_accuracy: 0.8141\n",
      "Epoch 7/32\n",
      "1239/1239 [==============================] - 564s 455ms/step - loss: 0.4110 - accuracy: 0.8191 - val_loss: 0.4176 - val_accuracy: 0.8109\n",
      "Epoch 8/32\n",
      "1239/1239 [==============================] - 563s 454ms/step - loss: 0.3991 - accuracy: 0.8242 - val_loss: 0.4128 - val_accuracy: 0.8151\n",
      "Epoch 9/32\n",
      "1239/1239 [==============================] - 540s 436ms/step - loss: 0.3980 - accuracy: 0.8243 - val_loss: 0.4071 - val_accuracy: 0.8192\n",
      "Epoch 10/32\n",
      "1239/1239 [==============================] - 556s 449ms/step - loss: 0.3861 - accuracy: 0.8300 - val_loss: 0.4088 - val_accuracy: 0.8206\n",
      "Epoch 11/32\n",
      "1239/1239 [==============================] - 529s 427ms/step - loss: 0.3825 - accuracy: 0.8337 - val_loss: 0.4213 - val_accuracy: 0.8103\n",
      "Testing set accuracy: 80.90%\n"
     ]
    }
   ],
   "source": [
    "EPOCHS = 32\n",
    "BATCH = 64\n",
    "\n",
    "early_stop = keras.callbacks.EarlyStopping(monitor='val_loss', patience=2)\n",
    "\n",
    "model.fit(X_train_indices, Y_train,\n",
    "          batch_size=BATCH,\n",
    "          epochs=EPOCHS,\n",
    "          validation_split=0.2,\n",
    "          verbose = 1,\n",
    "          callbacks = [early_stop])\n",
    "\n",
    "_, acc = model.evaluate(X_test_indices, Y_test, batch_size=64, verbose = 0)\n",
    "print(\"Testing set accuracy: {:.2f}%\".format(acc*100))"
   ]
  },
  {
   "cell_type": "markdown",
   "id": "fe6f390d",
   "metadata": {},
   "source": [
    "# Bidirectional LSTM"
   ]
  },
  {
   "cell_type": "code",
   "execution_count": 254,
   "id": "09d924f3",
   "metadata": {},
   "outputs": [
    {
     "name": "stdout",
     "output_type": "stream",
     "text": [
      "Model: \"sequential_9\"\n",
      "_________________________________________________________________\n",
      "Layer (type)                 Output Shape              Param #   \n",
      "=================================================================\n",
      "embedding_8 (Embedding)      (None, None, 16)          320000    \n",
      "_________________________________________________________________\n",
      "bidirectional (Bidirectional (None, 256)               148480    \n",
      "_________________________________________________________________\n",
      "dense_8 (Dense)              (None, 1)                 257       \n",
      "=================================================================\n",
      "Total params: 468,737\n",
      "Trainable params: 468,737\n",
      "Non-trainable params: 0\n",
      "_________________________________________________________________\n"
     ]
    }
   ],
   "source": [
    "model = keras.Sequential()\n",
    "# Embedding layer turns vectors of integers into dense real vectors of fixed size\n",
    "model.add(layers.Embedding(max_features, 16))\n",
    "model.add(layers.Bidirectional(layers.LSTM(128, return_sequences=False, dropout=0.2, recurrent_dropout=0.2)))\n",
    "model.add(layers.Dense(1, activation='sigmoid'))\n",
    "\n",
    "optimizer = optimizers.RMSprop(learning_rate=0.001)\n",
    "model.compile(loss='binary_crossentropy',\n",
    "              optimizer=optimizer,\n",
    "              metrics=['accuracy'])\n",
    "model.summary()"
   ]
  },
  {
   "cell_type": "code",
   "execution_count": 255,
   "id": "5a5ead7c",
   "metadata": {},
   "outputs": [
    {
     "name": "stdout",
     "output_type": "stream",
     "text": [
      "Epoch 1/32\n",
      "1239/1239 [==============================] - 457s 367ms/step - loss: 0.5360 - accuracy: 0.7502 - val_loss: 0.4475 - val_accuracy: 0.7937\n",
      "Epoch 2/32\n",
      "1239/1239 [==============================] - 423s 341ms/step - loss: 0.4382 - accuracy: 0.8042 - val_loss: 0.4312 - val_accuracy: 0.8068\n",
      "Epoch 3/32\n",
      "1239/1239 [==============================] - 425s 343ms/step - loss: 0.4203 - accuracy: 0.8129 - val_loss: 0.4286 - val_accuracy: 0.8092\n",
      "Epoch 4/32\n",
      "1239/1239 [==============================] - 420s 339ms/step - loss: 0.4031 - accuracy: 0.8212 - val_loss: 0.4094 - val_accuracy: 0.8185\n",
      "Epoch 5/32\n",
      "1239/1239 [==============================] - 423s 342ms/step - loss: 0.3953 - accuracy: 0.8251 - val_loss: 0.4092 - val_accuracy: 0.8183\n",
      "Epoch 6/32\n",
      "1239/1239 [==============================] - 448s 362ms/step - loss: 0.3919 - accuracy: 0.8262 - val_loss: 0.4051 - val_accuracy: 0.8208\n",
      "Epoch 7/32\n",
      "1239/1239 [==============================] - 439s 354ms/step - loss: 0.3824 - accuracy: 0.8311 - val_loss: 0.4103 - val_accuracy: 0.8218\n",
      "Epoch 8/32\n",
      "1239/1239 [==============================] - 406s 328ms/step - loss: 0.3798 - accuracy: 0.8331 - val_loss: 0.4032 - val_accuracy: 0.8212\n",
      "Epoch 9/32\n",
      "1239/1239 [==============================] - 391s 316ms/step - loss: 0.3759 - accuracy: 0.8360 - val_loss: 0.4067 - val_accuracy: 0.8250\n",
      "Epoch 10/32\n",
      "1239/1239 [==============================] - 416s 336ms/step - loss: 0.3665 - accuracy: 0.8396 - val_loss: 0.3988 - val_accuracy: 0.8232\n",
      "Epoch 11/32\n",
      "1239/1239 [==============================] - 397s 320ms/step - loss: 0.3680 - accuracy: 0.8388 - val_loss: 0.3968 - val_accuracy: 0.8237\n",
      "Epoch 12/32\n",
      "1239/1239 [==============================] - 398s 321ms/step - loss: 0.3581 - accuracy: 0.8443 - val_loss: 0.3972 - val_accuracy: 0.8245\n",
      "Epoch 13/32\n",
      "1239/1239 [==============================] - 397s 320ms/step - loss: 0.3545 - accuracy: 0.8469 - val_loss: 0.3938 - val_accuracy: 0.8268\n",
      "Epoch 14/32\n",
      "1239/1239 [==============================] - 404s 326ms/step - loss: 0.3511 - accuracy: 0.8489 - val_loss: 0.3957 - val_accuracy: 0.8251\n",
      "Epoch 15/32\n",
      "1239/1239 [==============================] - 396s 320ms/step - loss: 0.3478 - accuracy: 0.8495 - val_loss: 0.4001 - val_accuracy: 0.8234\n",
      "Testing set accuracy: 82.23%\n"
     ]
    }
   ],
   "source": [
    "EPOCHS = 32\n",
    "BATCH = 64\n",
    "\n",
    "early_stop = keras.callbacks.EarlyStopping(monitor='val_loss', patience=2)\n",
    "\n",
    "model.fit(X_train_indices, Y_train,\n",
    "          batch_size=BATCH,\n",
    "          epochs=EPOCHS,\n",
    "          validation_split=0.2,\n",
    "          verbose = 1,\n",
    "          callbacks = [early_stop])\n",
    "\n",
    "_, acc = model.evaluate(X_test_indices, Y_test, batch_size=64, verbose = 0)\n",
    "print(\"Testing set accuracy: {:.2f}%\".format(acc*100))"
   ]
  }
 ],
 "metadata": {
  "accelerator": "GPU",
  "colab": {
   "collapsed_sections": [],
   "name": "LSTM_updated.ipynb",
   "provenance": []
  },
  "kernelspec": {
   "display_name": "Python 3",
   "language": "python",
   "name": "python3"
  },
  "language_info": {
   "codemirror_mode": {
    "name": "ipython",
    "version": 3
   },
   "file_extension": ".py",
   "mimetype": "text/x-python",
   "name": "python",
   "nbconvert_exporter": "python",
   "pygments_lexer": "ipython3",
   "version": "3.8.10"
  }
 },
 "nbformat": 4,
 "nbformat_minor": 5
}
